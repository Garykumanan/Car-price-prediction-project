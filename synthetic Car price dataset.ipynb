{
  "metadata": {
    "kernelspec": {
      "name": "python",
      "display_name": "Python (Pyodide)",
      "language": "python"
    },
    "language_info": {
      "codemirror_mode": {
        "name": "python",
        "version": 3
      },
      "file_extension": ".py",
      "mimetype": "text/x-python",
      "name": "python",
      "nbconvert_exporter": "python",
      "pygments_lexer": "ipython3",
      "version": "3.8"
    }
  },
  "nbformat_minor": 4,
  "nbformat": 4,
  "cells": [
    {
      "cell_type": "markdown",
      "source": "# Generate the Dataset",
      "metadata": {}
    },
    {
      "cell_type": "code",
      "source": "import pandas as pd\nimport numpy as np\n\n# Set seed for reproducibility\nnp.random.seed(42)\n\n# Number of samples\nn_samples = 1000\n\n# Sample data generation\nmakes = ['Toyota', 'Ford', 'BMW', 'Audi', 'Mercedes', 'Hyundai', 'Honda']\nmodels = ['Model A', 'Model B', 'Model C', 'Model D', 'Model E']\nyears = np.random.randint(2000, 2023, size=n_samples)\nmileages = np.random.randint(5000, 200000, size=n_samples)\nfuel_types = ['Petrol', 'Diesel', 'Electric', 'Hybrid']\ntransmissions = ['Manual', 'Automatic']\n\n# Random choices for categorical data\nmake = np.random.choice(makes, size=n_samples)\nmodel = np.random.choice(models, size=n_samples)\nfuel_type = np.random.choice(fuel_types, size=n_samples)\ntransmission = np.random.choice(transmissions, size=n_samples)\n\n# Price calculation based on random factors\nbase_prices = {\n    'Toyota': 20000, 'Ford': 25000, 'BMW': 35000, 'Audi': 40000,\n    'Mercedes': 45000, 'Hyundai': 18000, 'Honda': 22000\n}\nprice_variation = np.random.normal(loc=0.0, scale=5000.0, size=n_samples)\nage_factor = (2023 - years) * -500\nmileage_factor = mileages * -0.05\nfuel_factor = np.array([1000 if fuel == 'Electric' else -500 if fuel == 'Diesel' else 0 for fuel in fuel_type])\ntransmission_factor = np.array([1000 if trans == 'Automatic' else 0 for trans in transmission])\n\n# Final price calculation\nprice = np.array([base_prices[m] for m in make]) + price_variation + age_factor + mileage_factor + fuel_factor + transmission_factor\nprice = np.clip(price, 5000, None)  # Ensure price doesn't fall below 5000\n\n# Create DataFrame\ndata = {\n    'make': make,\n    'model': model,\n    'year': years,\n    'mileage': mileages,\n    'fuel_type': fuel_type,\n    'transmission': transmission,\n    'price': price\n}\n\ndf = pd.DataFrame(data)\ndf.head()\n",
      "metadata": {
        "trusted": true
      },
      "outputs": [
        {
          "name": "stderr",
          "text": "<ipython-input-2-c34e98bf3b7f>:1: DeprecationWarning: \nPyarrow will become a required dependency of pandas in the next major release of pandas (pandas 3.0),\n(to allow more performant data types, such as the Arrow string type, and better interoperability with other libraries)\nbut was not found to be installed on your system.\nIf this would cause problems for you,\nplease provide us feedback at https://github.com/pandas-dev/pandas/issues/54466\n        \n  import pandas as pd\n",
          "output_type": "stream"
        },
        {
          "execution_count": 2,
          "output_type": "execute_result",
          "data": {
            "text/plain": "       make    model  year  mileage fuel_type transmission         price\n0   Hyundai  Model D  2006    89555    Diesel       Manual   5000.000000\n1   Hyundai  Model C  2019    78698    Petrol    Automatic  21801.915990\n2      Ford  Model A  2014   129450    Diesel       Manual  18188.457821\n3  Mercedes  Model B  2010   141487  Electric       Manual  31242.873564\n4      Ford  Model E  2007   172231    Petrol    Automatic  15066.550736",
            "text/html": "<div>\n<style scoped>\n    .dataframe tbody tr th:only-of-type {\n        vertical-align: middle;\n    }\n\n    .dataframe tbody tr th {\n        vertical-align: top;\n    }\n\n    .dataframe thead th {\n        text-align: right;\n    }\n</style>\n<table border=\"1\" class=\"dataframe\">\n  <thead>\n    <tr style=\"text-align: right;\">\n      <th></th>\n      <th>make</th>\n      <th>model</th>\n      <th>year</th>\n      <th>mileage</th>\n      <th>fuel_type</th>\n      <th>transmission</th>\n      <th>price</th>\n    </tr>\n  </thead>\n  <tbody>\n    <tr>\n      <th>0</th>\n      <td>Hyundai</td>\n      <td>Model D</td>\n      <td>2006</td>\n      <td>89555</td>\n      <td>Diesel</td>\n      <td>Manual</td>\n      <td>5000.000000</td>\n    </tr>\n    <tr>\n      <th>1</th>\n      <td>Hyundai</td>\n      <td>Model C</td>\n      <td>2019</td>\n      <td>78698</td>\n      <td>Petrol</td>\n      <td>Automatic</td>\n      <td>21801.915990</td>\n    </tr>\n    <tr>\n      <th>2</th>\n      <td>Ford</td>\n      <td>Model A</td>\n      <td>2014</td>\n      <td>129450</td>\n      <td>Diesel</td>\n      <td>Manual</td>\n      <td>18188.457821</td>\n    </tr>\n    <tr>\n      <th>3</th>\n      <td>Mercedes</td>\n      <td>Model B</td>\n      <td>2010</td>\n      <td>141487</td>\n      <td>Electric</td>\n      <td>Manual</td>\n      <td>31242.873564</td>\n    </tr>\n    <tr>\n      <th>4</th>\n      <td>Ford</td>\n      <td>Model E</td>\n      <td>2007</td>\n      <td>172231</td>\n      <td>Petrol</td>\n      <td>Automatic</td>\n      <td>15066.550736</td>\n    </tr>\n  </tbody>\n</table>\n</div>"
          },
          "metadata": {}
        }
      ],
      "execution_count": 2
    },
    {
      "cell_type": "markdown",
      "source": "# Save the Dataset",
      "metadata": {}
    },
    {
      "cell_type": "code",
      "source": "# Save to CSV\ndf.to_csv('car_prices.csv', index=False)",
      "metadata": {
        "trusted": true
      },
      "outputs": [],
      "execution_count": 3
    },
    {
      "cell_type": "code",
      "source": "",
      "metadata": {
        "trusted": true
      },
      "outputs": [],
      "execution_count": null
    }
  ]
}